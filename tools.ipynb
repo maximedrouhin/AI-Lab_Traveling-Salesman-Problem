{
 "cells": [
  {
   "cell_type": "markdown",
   "metadata": {},
   "source": [
    "### Testing all combinations"
   ]
  },
  {
   "cell_type": "code",
   "execution_count": 18,
   "metadata": {},
   "outputs": [
    {
     "data": {
      "text/plain": [
       "[3, 2, 1, 0]"
      ]
     },
     "execution_count": 18,
     "metadata": {},
     "output_type": "execute_result"
    }
   ],
   "source": [
    "import numpy as np\n",
    "from itertools import permutations\n",
    "\n",
    "def most_probable_path(prob_matrix):\n",
    "    n = prob_matrix.shape[0]\n",
    "    max_prob = 0\n",
    "    best_path = []\n",
    "\n",
    "    # Generate all permutations of paths\n",
    "    for perm in permutations(range(n)):\n",
    "        prob = 1\n",
    "        valid_path = True\n",
    "        \n",
    "        # Calculate the probability of the current path\n",
    "        for i in range(n-1):\n",
    "            prob *= prob_matrix[perm[i], perm[i+1]]\n",
    "            if prob_matrix[perm[i], perm[i+1]] == 0:\n",
    "                valid_path = False\n",
    "                break\n",
    "        \n",
    "        # Check if the current path is the best so far\n",
    "        if valid_path and prob > max_prob:\n",
    "            max_prob = prob\n",
    "            best_path = perm\n",
    "    \n",
    "    return list(best_path)\n",
    "\n",
    "# Example usage\n",
    "prob_matrix = np.array([\n",
    "    [0, 0.8, 0.5, 0.2],\n",
    "    [0.8, 0, 0.6, 0.4],\n",
    "    [0.5, 0.6, 0, 0.9],\n",
    "    [0.2, 0.4, 0.9, 0]\n",
    "])\n",
    "\n",
    "most_probable_path(prob_matrix)"
   ]
  },
  {
   "cell_type": "code",
   "execution_count": 19,
   "metadata": {},
   "outputs": [],
   "source": [
    "for i in range(100000):\n",
    "    most_probable_path(prob_matrix)"
   ]
  },
  {
   "cell_type": "code",
   "execution_count": 20,
   "metadata": {},
   "outputs": [
    {
     "data": {
      "text/plain": [
       "array([[0.        , 0.71518937, 0.60276338, ..., 0.1289263 , 0.31542835,\n",
       "        0.36371077],\n",
       "       [0.57019677, 0.        , 0.98837384, ..., 0.02010755, 0.82894003,\n",
       "        0.00469548],\n",
       "       [0.67781654, 0.27000797, 0.        , ..., 0.91948261, 0.7142413 ,\n",
       "        0.99884701],\n",
       "       ...,\n",
       "       [0.0698143 , 0.22649128, 0.48110196, ..., 0.        , 0.73859222,\n",
       "        0.52658426],\n",
       "       [0.88668322, 0.8309088 , 0.03160544, ..., 0.55957053, 0.        ,\n",
       "        0.09127072],\n",
       "       [0.60047104, 0.38152221, 0.86758085, ..., 0.72433098, 0.19157101,\n",
       "        0.        ]])"
      ]
     },
     "execution_count": 20,
     "metadata": {},
     "output_type": "execute_result"
    }
   ],
   "source": [
    "import numpy as np\n",
    "\n",
    "# Generate a 50x50 random probability matrix\n",
    "np.random.seed(0)  # For reproducibility\n",
    "random_prob_matrix = np.random.rand(50, 50)\n",
    "\n",
    "# Set the diagonal to 0, as there's no path from a node to itself\n",
    "np.fill_diagonal(random_prob_matrix, 0)\n",
    "\n",
    "random_prob_matrix"
   ]
  },
  {
   "cell_type": "code",
   "execution_count": 27,
   "metadata": {},
   "outputs": [],
   "source": [
    "for i in range(100000):\n",
    "    most_probable_path(prob_matrix)"
   ]
  },
  {
   "cell_type": "markdown",
   "metadata": {},
   "source": [
    "### Using dynamic programming"
   ]
  },
  {
   "cell_type": "code",
   "execution_count": 22,
   "metadata": {},
   "outputs": [
    {
     "data": {
      "text/plain": [
       "[0, 1, 2, 3]"
      ]
     },
     "execution_count": 22,
     "metadata": {},
     "output_type": "execute_result"
    }
   ],
   "source": [
    "import numpy as np\n",
    "\n",
    "def most_probable_path_dp(prob_matrix):\n",
    "    n = prob_matrix.shape[0]  # Number of circles (nodes)\n",
    "    memo = {}  # Dictionary to memoize results\n",
    "    \n",
    "    def dp(visited, last):\n",
    "        # If the result for this state is already computed, return it\n",
    "        if (visited, last) in memo:\n",
    "            return memo[(visited, last)]\n",
    "        \n",
    "        # If all nodes are visited, return the probability of 1 and the current path\n",
    "        if visited == (1 << n) - 1:\n",
    "            return 1, [last]\n",
    "        \n",
    "        max_prob = 0  # Initialize maximum probability\n",
    "        best_path = []  # Initialize best path\n",
    "        \n",
    "        # Explore all possible next nodes\n",
    "        for i in range(n):\n",
    "            # If node i is not visited\n",
    "            if not visited & (1 << i):\n",
    "                # Recursive call to compute the probability and path for the next state\n",
    "                prob, path = dp(visited | (1 << i), i)\n",
    "                prob *= prob_matrix[last, i]  # Update the probability with the current edge\n",
    "                \n",
    "                # Update max_prob and best_path if the current probability is higher\n",
    "                if prob > max_prob:\n",
    "                    max_prob = prob\n",
    "                    best_path = path\n",
    "        \n",
    "        # Memoize the result for the current state\n",
    "        memo[(visited, last)] = (max_prob, [last] + best_path)\n",
    "        return memo[(visited, last)]\n",
    "    \n",
    "    max_prob = 0  # Initialize maximum probability for the overall best path\n",
    "    best_path = []  # Initialize best path for the overall best path\n",
    "    \n",
    "    # Try starting the path from each node\n",
    "    for i in range(n):\n",
    "        prob, path = dp(1 << i, i)  # Start with node i visited\n",
    "        # Update max_prob and best_path if the current probability is higher\n",
    "        if prob > max_prob:\n",
    "            max_prob = prob\n",
    "            best_path = path\n",
    "    \n",
    "    return best_path\n",
    "\n",
    "# Example usage\n",
    "prob_matrix = np.array([\n",
    "    [0, 0.8, 0.5, 0.2],  # Probabilities of paths from node 0 to other nodes\n",
    "    [0.8, 0, 0.6, 0.4],  # Probabilities of paths from node 1 to other nodes\n",
    "    [0.5, 0.6, 0, 0.9],  # Probabilities of paths from node 2 to other nodes\n",
    "    [0.2, 0.4, 0.9, 0]   # Probabilities of paths from node 3 to other nodes\n",
    "])\n",
    "\n",
    "# Compute the most probable path\n",
    "most_probable_path_dp(prob_matrix)"
   ]
  },
  {
   "cell_type": "code",
   "execution_count": 23,
   "metadata": {},
   "outputs": [],
   "source": [
    "for i in range(100000):\n",
    "    most_probable_path_dp(prob_matrix)"
   ]
  },
  {
   "cell_type": "code",
   "execution_count": 28,
   "metadata": {},
   "outputs": [],
   "source": [
    "for i in range(100000):\n",
    "    most_probable_path_dp(prob_matrix)"
   ]
  }
 ],
 "metadata": {
  "kernelspec": {
   "display_name": "Python 3",
   "language": "python",
   "name": "python3"
  },
  "language_info": {
   "codemirror_mode": {
    "name": "ipython",
    "version": 3
   },
   "file_extension": ".py",
   "mimetype": "text/x-python",
   "name": "python",
   "nbconvert_exporter": "python",
   "pygments_lexer": "ipython3",
   "version": "3.11.5"
  }
 },
 "nbformat": 4,
 "nbformat_minor": 2
}
