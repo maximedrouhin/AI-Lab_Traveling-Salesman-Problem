{
 "cells": [
  {
   "cell_type": "markdown",
   "metadata": {},
   "source": [
    "clicking on the picture will print the color of the current pixel\n",
    "\n",
    "press q to quit"
   ]
  },
  {
   "cell_type": "code",
   "execution_count": 1,
   "metadata": {},
   "outputs": [],
   "source": [
    "import cv2\n",
    "import numpy as np\n",
    "import matplotlib.image as mpimg\n",
    "import picture_creator"
   ]
  },
  {
   "cell_type": "code",
   "execution_count": 13,
   "metadata": {},
   "outputs": [
    {
     "name": "stdout",
     "output_type": "stream",
     "text": [
      "(673, 503, 3)\n"
     ]
    }
   ],
   "source": [
    "pic_num = 0\n",
    "image = mpimg.imread(f'tsp-cv/{pic_num}.jpg')\n",
    "image = np.array(image)\n",
    "print(image.shape)\n",
    "#or\n",
    "#image, _ = picture_creator.generator_function()"
   ]
  },
  {
   "cell_type": "code",
   "execution_count": 15,
   "metadata": {},
   "outputs": [],
   "source": [
    "factor = 1\n",
    "\n",
    "image = cv2.resize(image, (int(image.shape[1] * factor), int(image.shape[0] * factor)))"
   ]
  },
  {
   "cell_type": "code",
   "execution_count": 17,
   "metadata": {},
   "outputs": [
    {
     "name": "stdout",
     "output_type": "stream",
     "text": [
      "color: [170 220 151]\n",
      "color: [127 149  47]\n",
      "color: [ 34 205 251]\n",
      "color: [ 33 185 250]\n",
      "color: [188 220 113]\n",
      "color: [168 245 212]\n",
      "color: [ 29 154 237]\n",
      "color: [ 31 196 251]\n",
      "color: [ 37 208 253]\n",
      "color: [ 10 231 250]\n",
      "color: [ 18 242 255]\n",
      "color: [  9 221 253]\n",
      "color: [ 24 239 255]\n",
      "color: [ 18 232 248]\n",
      "color: [  3 106 154]\n",
      "color: [ 24 205 234]\n",
      "color: [ 24 250 253]\n",
      "color: [  6 174 248]\n",
      "color: [ 16 125 188]\n",
      "color: [ 25 197 255]\n",
      "color: [135 140  18]\n",
      "color: [197 195  43]\n",
      "color: [184 180  31]\n",
      "color: [185 184  25]\n",
      "color: [135 133   3]\n",
      "color: [117 119   4]\n",
      "color: [177 178  22]\n",
      "color: [144 144  14]\n",
      "color: [147 151  19]\n",
      "color: [154 156  26]\n",
      "color: [180 181  28]\n",
      "color: [99 96  3]\n",
      "color: [173 176  27]\n",
      "color: [169 169  19]\n",
      "color: [182 184  37]\n",
      "color: [139 144  22]\n",
      "color: [194 195  46]\n",
      "color: [140 145   6]\n",
      "color: [165 168  20]\n",
      "color: [192 189  32]\n",
      "color: [184 183  26]\n",
      "color: [196 195  34]\n",
      "color: [154 156  17]\n",
      "color: [131 129  11]\n",
      "color: [182 179  36]\n",
      "color: [142 154  14]\n",
      "color: [129 130   8]\n",
      "color: [103 101   6]\n"
     ]
    }
   ],
   "source": [
    "cv2.namedWindow('image')\n",
    "\n",
    "def print_on_click(event, x, y, flags, param):\n",
    "    if event == cv2.EVENT_LBUTTONDOWN:\n",
    "        print(f'color: {image[y][x]}')\n",
    "\n",
    "cv2.setMouseCallback('image', print_on_click )\n",
    "\n",
    "cv2_image = cv2.cvtColor(image, cv2.COLOR_BGR2RGB)\n",
    "while True:\n",
    "    cv2.imshow('image', cv2_image)\n",
    "    if cv2.waitKey(20) & 0xFF == ord('q'):\n",
    "        cv2.destroyAllWindows()\n",
    "        break\n",
    "    \n",
    "\n"
   ]
  }
 ],
 "metadata": {
  "kernelspec": {
   "display_name": "Python 3",
   "language": "python",
   "name": "python3"
  },
  "language_info": {
   "codemirror_mode": {
    "name": "ipython",
    "version": 3
   },
   "file_extension": ".py",
   "mimetype": "text/x-python",
   "name": "python",
   "nbconvert_exporter": "python",
   "pygments_lexer": "ipython3",
   "version": "3.10.0"
  }
 },
 "nbformat": 4,
 "nbformat_minor": 2
}
