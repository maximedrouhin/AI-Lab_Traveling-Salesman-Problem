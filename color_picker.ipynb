{
 "cells": [
  {
   "cell_type": "markdown",
   "metadata": {},
   "source": [
    "clicking on the picture will print the color of the current pixel\n",
    "\n",
    "press q to quit"
   ]
  },
  {
   "cell_type": "code",
   "execution_count": 11,
   "metadata": {},
   "outputs": [],
   "source": [
    "import cv2\n",
    "import numpy as np\n",
    "import matplotlib.image as mpimg\n",
    "import picture_creator"
   ]
  },
  {
   "cell_type": "code",
   "execution_count": 12,
   "metadata": {},
   "outputs": [],
   "source": [
    "pic_num = 1\n",
    "image_or = mpimg.imread(f'tsp-cv/{pic_num}.jpg')\n",
    "image_or = np.array(image_or)\n",
    "\n",
    "image_gen, _ = picture_creator.generate_random_picure()"
   ]
  },
  {
   "cell_type": "code",
   "execution_count": 13,
   "metadata": {},
   "outputs": [],
   "source": [
    "factor = 1\n",
    "image = image_or\n",
    "\n",
    "image = cv2.resize(image, (int(image.shape[1] * factor), int(image.shape[0] * factor)))\n",
    "\n",
    "image_or = image"
   ]
  },
  {
   "cell_type": "code",
   "execution_count": 14,
   "metadata": {},
   "outputs": [
    {
     "name": "stdout",
     "output_type": "stream",
     "text": [
      "generated color: [0 0 0]\n",
      "generated color: [0 0 0]\n",
      "generated color: [0 0 0]\n",
      "generated color: [0 0 0]\n",
      "generated color: [0 0 0]\n"
     ]
    }
   ],
   "source": [
    "def print_on_click(event, x, y, flags, param):\n",
    "    name , image = param\n",
    "    if event == cv2.EVENT_LBUTTONDOWN:\n",
    "        print(name,f'color: {image[y][x]}')\n",
    "\n",
    "cv2.namedWindow('image_or')\n",
    "cv2.setMouseCallback('image_or', print_on_click, (\"oginal\", image_or))\n",
    "cv2_image_or = cv2.cvtColor(image_or, cv2.COLOR_BGR2RGB)\n",
    "\n",
    "cv2.namedWindow('image_gen')\n",
    "cv2.setMouseCallback('image_gen', print_on_click, (\"generated\", image_gen))\n",
    "cv2_image_gen = cv2.cvtColor(image_gen, cv2.COLOR_BGR2RGB)\n",
    "\n",
    "while True:\n",
    "    cv2.imshow('image_or', cv2_image_or)\n",
    "    cv2.imshow('image_gen', cv2_image_gen)\n",
    "    if cv2.waitKey(20) & 0xFF == ord('q'):\n",
    "        cv2.destroyAllWindows()\n",
    "        break\n",
    "    \n",
    "\n"
   ]
  }
 ],
 "metadata": {
  "kernelspec": {
   "display_name": "Python 3",
   "language": "python",
   "name": "python3"
  },
  "language_info": {
   "codemirror_mode": {
    "name": "ipython",
    "version": 3
   },
   "file_extension": ".py",
   "mimetype": "text/x-python",
   "name": "python",
   "nbconvert_exporter": "python",
   "pygments_lexer": "ipython3",
   "version": "3.10.0"
  }
 },
 "nbformat": 4,
 "nbformat_minor": 2
}
